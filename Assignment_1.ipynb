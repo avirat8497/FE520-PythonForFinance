{
 "cells": [
  {
   "cell_type": "markdown",
   "metadata": {},
   "source": [
    "# NAME : AVIRAT BELEKAR\n",
    "# CWID : 10454332\n",
    "# ASSIGNMENT 1"
   ]
  },
  {
   "cell_type": "markdown",
   "metadata": {},
   "source": [
    "# 1.1Define a string and print it "
   ]
  },
  {
   "cell_type": "code",
   "execution_count": 257,
   "metadata": {},
   "outputs": [
    {
     "name": "stdout",
     "output_type": "stream",
     "text": [
      "Avirat\n"
     ]
    }
   ],
   "source": [
    "var1 = \"Avirat\"\n",
    "print(var1)"
   ]
  },
  {
   "cell_type": "markdown",
   "metadata": {},
   "source": [
    "# 1.2 Define a string (I’m a student), print it."
   ]
  },
  {
   "cell_type": "code",
   "execution_count": 258,
   "metadata": {},
   "outputs": [
    {
     "name": "stdout",
     "output_type": "stream",
     "text": [
      "I'm a student\n"
     ]
    }
   ],
   "source": [
    "var2 = \"I'm a student\"\n",
    "print(var2)"
   ]
  },
  {
   "cell_type": "markdown",
   "metadata": {},
   "source": [
    "# 1.3 Defind a string: (4pts)(How do you think of this course?Describe your feeling of this course)print it in multiple line."
   ]
  },
  {
   "cell_type": "code",
   "execution_count": 259,
   "metadata": {},
   "outputs": [
    {
     "name": "stdout",
     "output_type": "stream",
     "text": [
      "This course is a very interesting course.\n",
      "It has good programming concepts and also how python is used in the financial industry\n"
     ]
    }
   ],
   "source": [
    "var3 = \"\"\"This course is a very interesting course.\n",
    "It has good programming concepts and also how python is used in the financial industry\"\"\"\n",
    "print(var3)"
   ]
  },
  {
   "cell_type": "markdown",
   "metadata": {},
   "source": [
    "# 2 Define a=100, b=9, calculate following problems, (1pts)"
   ]
  },
  {
   "cell_type": "code",
   "execution_count": 260,
   "metadata": {},
   "outputs": [],
   "source": [
    "a =100\n",
    "b = 9"
   ]
  },
  {
   "cell_type": "markdown",
   "metadata": {},
   "source": [
    "# 2.1 c=a+b, print c out. (2pts)"
   ]
  },
  {
   "cell_type": "code",
   "execution_count": 261,
   "metadata": {},
   "outputs": [
    {
     "name": "stdout",
     "output_type": "stream",
     "text": [
      "109\n"
     ]
    }
   ],
   "source": [
    "c = a+b\n",
    "print(c)"
   ]
  },
  {
   "cell_type": "markdown",
   "metadata": {},
   "source": [
    "# 2.2 print the quotient of a/b. (2pts)"
   ]
  },
  {
   "cell_type": "code",
   "execution_count": 262,
   "metadata": {},
   "outputs": [
    {
     "name": "stdout",
     "output_type": "stream",
     "text": [
      "11\n"
     ]
    }
   ],
   "source": [
    "c = a//b\n",
    "print(c)"
   ]
  },
  {
   "cell_type": "markdown",
   "metadata": {},
   "source": [
    "# 2.3 print the integer part of a/b. "
   ]
  },
  {
   "cell_type": "code",
   "execution_count": 263,
   "metadata": {},
   "outputs": [
    {
     "name": "stdout",
     "output_type": "stream",
     "text": [
      "11\n"
     ]
    }
   ],
   "source": [
    "c = a / b\n",
    "print(int(c))"
   ]
  },
  {
   "cell_type": "markdown",
   "metadata": {},
   "source": [
    "# 2.4 print the remainder part of a/b."
   ]
  },
  {
   "cell_type": "code",
   "execution_count": 264,
   "metadata": {},
   "outputs": [
    {
     "name": "stdout",
     "output_type": "stream",
     "text": [
      "1\n"
     ]
    }
   ],
   "source": [
    "c = a % b\n",
    "print(c)"
   ]
  },
  {
   "cell_type": "markdown",
   "metadata": {},
   "source": [
    "# 2.5 print the result of ’a’ to the power of b. "
   ]
  },
  {
   "cell_type": "code",
   "execution_count": 265,
   "metadata": {},
   "outputs": [
    {
     "name": "stdout",
     "output_type": "stream",
     "text": [
      "1000000000000000000\n"
     ]
    }
   ],
   "source": [
    "c = a ** b\n",
    "print(c)"
   ]
  },
  {
   "cell_type": "markdown",
   "metadata": {},
   "source": [
    "# 2.6 Using logic operator to return a Boolean value for a unequal to b"
   ]
  },
  {
   "cell_type": "code",
   "execution_count": 266,
   "metadata": {},
   "outputs": [
    {
     "data": {
      "text/plain": [
       "False"
      ]
     },
     "execution_count": 266,
     "metadata": {},
     "output_type": "execute_result"
    }
   ],
   "source": [
    "a == b"
   ]
  },
  {
   "cell_type": "markdown",
   "metadata": {},
   "source": [
    "# 2.7 Using logic operator to return a Boolean value for a greater than b."
   ]
  },
  {
   "cell_type": "code",
   "execution_count": 267,
   "metadata": {},
   "outputs": [
    {
     "data": {
      "text/plain": [
       "True"
      ]
     },
     "execution_count": 267,
     "metadata": {},
     "output_type": "execute_result"
    }
   ],
   "source": [
    "a > b"
   ]
  },
  {
   "cell_type": "markdown",
   "metadata": {},
   "source": [
    "# 3.1 Define  a  list  Name  it  ListA),  whose  items  should  include  integer,  float,  andstring. Please notice the length of the list should be greater than 5. (4pts)"
   ]
  },
  {
   "cell_type": "code",
   "execution_count": 268,
   "metadata": {},
   "outputs": [],
   "source": [
    "ListA = [3,4.1,'hi',5,6.2,'helloo']"
   ]
  },
  {
   "cell_type": "markdown",
   "metadata": {},
   "source": [
    "# 3.2 Using extend and append to add another list(Name it ListB) to ListA. (4pts)"
   ]
  },
  {
   "cell_type": "code",
   "execution_count": 269,
   "metadata": {},
   "outputs": [
    {
     "name": "stdout",
     "output_type": "stream",
     "text": [
      "[3, 4.1, 'hi', 5, 6.2, 'helloo', [7, 8.3, 'bye']]\n"
     ]
    }
   ],
   "source": [
    "ListB = [7,8.3,'bye'] # Using append function to add another list to be a part of the old list\n",
    "ListA.append(ListB) \n",
    "print(ListA)"
   ]
  },
  {
   "cell_type": "code",
   "execution_count": 270,
   "metadata": {},
   "outputs": [
    {
     "name": "stdout",
     "output_type": "stream",
     "text": [
      "[3, 4.1, 'hi', 5, 6.2, 'helloo', [7, 8.3, 'bye'], 7, 8.3, 'bye']\n"
     ]
    }
   ],
   "source": [
    "ListA.extend(ListB) # Using append function to add elements of the new list into the old list\n",
    "print(ListA)"
   ]
  },
  {
   "cell_type": "markdown",
   "metadata": {},
   "source": [
    "# 3.3 Insert a string (’FE520’) to the second place of List A, and delete it after that.(4pts)"
   ]
  },
  {
   "cell_type": "code",
   "execution_count": 271,
   "metadata": {},
   "outputs": [
    {
     "data": {
      "text/plain": [
       "[3, 'FE520', 4.1, 'hi', 5, 6.2, 'helloo', [7, 8.3, 'bye'], 7, 8.3, 'bye']"
      ]
     },
     "execution_count": 271,
     "metadata": {},
     "output_type": "execute_result"
    }
   ],
   "source": [
    "var4 = 'FE520' # Adding an element to the list\n",
    "ListA.insert(1,var4)\n",
    "ListA"
   ]
  },
  {
   "cell_type": "code",
   "execution_count": 272,
   "metadata": {},
   "outputs": [
    {
     "data": {
      "text/plain": [
       "[3, 4.1, 'hi', 5, 6.2, 'helloo', [7, 8.3, 'bye'], 7, 8.3, 'bye']"
      ]
     },
     "execution_count": 272,
     "metadata": {},
     "output_type": "execute_result"
    }
   ],
   "source": [
    "ListA.pop(1) # Deleting an element of the list\n",
    "ListA"
   ]
  },
  {
   "cell_type": "markdown",
   "metadata": {},
   "source": [
    "# 3.4 Return and delete the last element in the ListA, and print the new list. (4pts)"
   ]
  },
  {
   "cell_type": "code",
   "execution_count": 273,
   "metadata": {},
   "outputs": [
    {
     "name": "stdout",
     "output_type": "stream",
     "text": [
      "[3, 4.1, 'hi', 5, 6.2, 'helloo', [7, 8.3, 'bye'], 7, 8.3, 'bye']\n",
      "bye\n",
      "[3, 4.1, 'hi', 5, 6.2, 'helloo', [7, 8.3, 'bye'], 7, 8.3]\n"
     ]
    }
   ],
   "source": [
    "print(ListA)\n",
    "print(ListA[-1]) # Return Last Element \n",
    "print(ListA[:-1]) # Delete the Last Element"
   ]
  },
  {
   "cell_type": "markdown",
   "metadata": {},
   "source": [
    "# 3.5 Return a new list (Name is ListC), slicing the ListA from 3rd to the end. (4pts)"
   ]
  },
  {
   "cell_type": "code",
   "execution_count": 274,
   "metadata": {},
   "outputs": [
    {
     "data": {
      "text/plain": [
       "['hi', 5, 6.2, 'helloo', [7, 8.3, 'bye'], 7, 8.3, 'bye']"
      ]
     },
     "execution_count": 274,
     "metadata": {},
     "output_type": "execute_result"
    }
   ],
   "source": [
    "ListC = ListA[2:]\n",
    "ListC"
   ]
  },
  {
   "cell_type": "markdown",
   "metadata": {},
   "source": [
    "# 3.6 Double size your ListC. (5pts)"
   ]
  },
  {
   "cell_type": "code",
   "execution_count": 275,
   "metadata": {},
   "outputs": [
    {
     "name": "stdout",
     "output_type": "stream",
     "text": [
      "['hi', 5, 6.2, 'helloo', [7, 8.3, 'bye'], 7, 8.3, 'bye', 'hi', 5, 6.2, 'helloo', [7, 8.3, 'bye'], 7, 8.3, 'bye']\n"
     ]
    }
   ],
   "source": [
    "ListC = ListC * 2\n",
    "print(ListC)"
   ]
  },
  {
   "cell_type": "markdown",
   "metadata": {},
   "source": [
    "# 3.7 Reverse your sequence of ListC. (5pts)"
   ]
  },
  {
   "cell_type": "code",
   "execution_count": 276,
   "metadata": {},
   "outputs": [
    {
     "name": "stdout",
     "output_type": "stream",
     "text": [
      "['bye', 8.3, 7, [7, 8.3, 'bye'], 'helloo', 6.2, 5, 'hi', 'bye', 8.3, 7, [7, 8.3, 'bye'], 'helloo', 6.2, 5, 'hi']\n"
     ]
    }
   ],
   "source": [
    "ListC = ListC[::-1]\n",
    "print(ListC)"
   ]
  },
  {
   "cell_type": "markdown",
   "metadata": {},
   "source": [
    " # 4.1 Define a list A=[1, 2, 3, 2, 1, 7]."
   ]
  },
  {
   "cell_type": "code",
   "execution_count": 277,
   "metadata": {},
   "outputs": [],
   "source": [
    "A = [1,2,3,2,1,7]"
   ]
  },
  {
   "cell_type": "markdown",
   "metadata": {},
   "source": [
    "# 4.2 Write a loop to count the number of each unique digit into dictionary, where yourkeys are digit in the list A, and value is the count corresponding to each digit.Your result should look like :{1: 2, 2: 2, 3: 1, 7: 1}"
   ]
  },
  {
   "cell_type": "code",
   "execution_count": 278,
   "metadata": {},
   "outputs": [
    {
     "data": {
      "text/plain": [
       "{1: 2, 2: 2, 3: 1, 7: 1}"
      ]
     },
     "execution_count": 278,
     "metadata": {},
     "output_type": "execute_result"
    }
   ],
   "source": [
    "dict = {}\n",
    "for item in A:\n",
    "    dict[item] = A.count(item)\n",
    "\n",
    "dict    \n",
    "    \n",
    "#for key, value in dict.items():\n",
    "#    print('%d : %d'%(key,value))"
   ]
  },
  {
   "cell_type": "markdown",
   "metadata": {},
   "source": [
    "# 5. Write a loop for calculate the average of a list.For example:  if you have a list A=[1, 2, 3, 4, 5, 6], after your loop calculation,you need to get a totalnum equals to 3.5."
   ]
  },
  {
   "cell_type": "code",
   "execution_count": 279,
   "metadata": {},
   "outputs": [
    {
     "name": "stdout",
     "output_type": "stream",
     "text": [
      "3.5\n"
     ]
    }
   ],
   "source": [
    "listA = [1,2,3,4,5,6]\n",
    "sum = 0\n",
    "for i in range(len(listA)):\n",
    "       sum = sum + listA[i]\n",
    "print(sum / len(listA))"
   ]
  },
  {
   "cell_type": "markdown",
   "metadata": {},
   "source": [
    "# 6. Loop Practice: Gradient Decent (30 pts)"
   ]
  },
  {
   "cell_type": "code",
   "execution_count": 1,
   "metadata": {},
   "outputs": [],
   "source": [
    "x = [[0.18], [1.0], [0.92], [0.07], [0.85], [0.99], [0.87]]\n",
    "y = [[109.85], [155.72], [137.66], [76.17], [139.75], [162.6], [151.77]]\n",
    "m = 0\n",
    "c = 0\n",
    "lr = 0.001\n",
    "iterations = 200"
   ]
  },
  {
   "cell_type": "code",
   "execution_count": 2,
   "metadata": {},
   "outputs": [
    {
     "name": "stdout",
     "output_type": "stream",
     "text": [
      "Value of m: 17.724810647355827\n",
      "Value of c: 22.97599012903927\n"
     ]
    }
   ],
   "source": [
    "for i in range(iterations):\n",
    "    diff_y = []\n",
    "    Dm = []\n",
    "    y_pred = []\n",
    "    sum_dm = 0\n",
    "    sum_dc = 0\n",
    "    for i in range(len(x)):\n",
    "        d = (x[i][0] * m) + c\n",
    "        y_pred.append(d)\n",
    "        diff_y.append(y_pred[i] - y[i][0])\n",
    "        Dm.append(x[i][0] * diff_y[i])\n",
    "        sum_dm = sum_dm + Dm[i]\n",
    "        sum_dc = sum_dc + diff_y[i]\n",
    "    avg_dm = (sum_dm) / len(Dm)\n",
    "    avg_dc = (sum_dc) / len(diff_y)\n",
    "    m = m - lr * avg_dm\n",
    "    c = c - lr * avg_dc\n",
    "print(\"Value of m:\",m)\n",
    "print(\"Value of c:\",c)"
   ]
  },
  {
   "cell_type": "code",
   "execution_count": null,
   "metadata": {},
   "outputs": [],
   "source": []
  }
 ],
 "metadata": {
  "kernelspec": {
   "display_name": "Python 3",
   "language": "python",
   "name": "python3"
  },
  "language_info": {
   "codemirror_mode": {
    "name": "ipython",
    "version": 3
   },
   "file_extension": ".py",
   "mimetype": "text/x-python",
   "name": "python",
   "nbconvert_exporter": "python",
   "pygments_lexer": "ipython3",
   "version": "3.8.5"
  }
 },
 "nbformat": 4,
 "nbformat_minor": 4
}
